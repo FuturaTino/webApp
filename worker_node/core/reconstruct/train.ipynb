{
 "cells": [
  {
   "cell_type": "code",
   "execution_count": 1,
   "metadata": {},
   "outputs": [],
   "source": [
    "import os\n",
    "import torch\n",
    "from random import randint\n",
    "from utils.loss_utils import l1_loss, ssim\n",
    "from gaussian_renderer import render, network_gui\n",
    "import sys\n",
    "from scene import Scene, GaussianModel\n",
    "from utils.general_utils import safe_state\n",
    "import uuid\n",
    "from tqdm import tqdm\n",
    "from utils.image_utils import psnr\n",
    "from argparse import ArgumentParser, Namespace\n",
    "from pathlib import Path \n",
    "from arguments import ModelParams, PipelineParams, OptimizationParams"
   ]
  },
  {
   "cell_type": "code",
   "execution_count": 2,
   "metadata": {},
   "outputs": [],
   "source": [
    "class GroupParams:\n",
    "    pass \n",
    "\n",
    "class ModelParams:\n",
    "    def __init__(self):\n",
    "        self.sh_degree = 3\n",
    "        self.source_path = Path(rf\"D:\\Repo\\webApp\\app\\storage\\00eb304e-8214-4739-b022-7270d6aecedd\")\n",
    "        self.model_path = \"\"\n",
    "        self.images = \"images\"\n",
    "        self.resolution = -1\n",
    "        self.white_background = False\n",
    "        self.data_device = \"cuda\"\n",
    "        self.eval = False\n",
    "\n",
    "class PipelineParams:\n",
    "    def __init__(self):\n",
    "        self.convert_SHs_python = False\n",
    "        self.compute_cov3D_python = False\n",
    "        self.debug = False\n",
    "\n",
    "class OptimizationParams:\n",
    "    def __init__(self):\n",
    "        self.iterations = 30_000\n",
    "        self.position_lr_init = 0.00016\n",
    "        self.position_lr_final = 0.0000016\n",
    "        self.position_lr_delay_mult = 0.01\n",
    "        self.position_lr_max_steps = 30_000\n",
    "        self.feature_lr = 0.0025\n",
    "        self.opacity_lr = 0.05\n",
    "        self.scaling_lr = 0.005\n",
    "        self.rotation_lr = 0.001\n",
    "        self.percent_dense = 0.01\n",
    "        self.lambda_dssim = 0.2\n",
    "        self.densification_interval = 100\n",
    "        self.opacity_reset_interval = 3000\n",
    "        self.densify_from_iter = 500\n",
    "        self.densify_until_iter = 15_000\n",
    "        self.densify_grad_threshold = 0.0002"
   ]
  },
  {
   "cell_type": "code",
   "execution_count": 3,
   "metadata": {},
   "outputs": [],
   "source": [
    "dataset = ModelParams()\n",
    "opt = OptimizationParams()\n",
    "pipe = PipelineParams()"
   ]
  },
  {
   "cell_type": "code",
   "execution_count": 4,
   "metadata": {},
   "outputs": [
    {
     "name": "stdout",
     "output_type": "stream",
     "text": [
      "Reading camera 49/49\n",
      "Loading Training Cameras\n",
      "Loading Test Cameras\n",
      "Number of points at initialisation :  3616\n"
     ]
    }
   ],
   "source": [
    "gaussians  = GaussianModel(dataset.sh_degree)\n",
    "scene = Scene(dataset, gaussians)\n"
   ]
  },
  {
   "cell_type": "code",
   "execution_count": null,
   "metadata": {},
   "outputs": [],
   "source": [
    "render"
   ]
  },
  {
   "cell_type": "code",
   "execution_count": null,
   "metadata": {},
   "outputs": [],
   "source": []
  },
  {
   "cell_type": "code",
   "execution_count": null,
   "metadata": {},
   "outputs": [],
   "source": []
  }
 ],
 "metadata": {
  "kernelspec": {
   "display_name": "env4torch",
   "language": "python",
   "name": "python3"
  },
  "language_info": {
   "codemirror_mode": {
    "name": "ipython",
    "version": 3
   },
   "file_extension": ".py",
   "mimetype": "text/x-python",
   "name": "python",
   "nbconvert_exporter": "python",
   "pygments_lexer": "ipython3",
   "version": "3.10.13"
  }
 },
 "nbformat": 4,
 "nbformat_minor": 2
}
